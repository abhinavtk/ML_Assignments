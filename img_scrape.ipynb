{
  "nbformat": 4,
  "nbformat_minor": 0,
  "metadata": {
    "kernelspec": {
      "display_name": "Python 3",
      "language": "python",
      "name": "python3"
    },
    "language_info": {
      "codemirror_mode": {
        "name": "ipython",
        "version": 3
      },
      "file_extension": ".py",
      "mimetype": "text/x-python",
      "name": "python",
      "nbconvert_exporter": "python",
      "pygments_lexer": "ipython3",
      "version": "3.7.7"
    },
    "colab": {
      "name": "img_scrape.ipynb",
      "provenance": [],
      "collapsed_sections": [],
      "include_colab_link": true
    }
  },
  "cells": [
    {
      "cell_type": "markdown",
      "metadata": {
        "id": "view-in-github",
        "colab_type": "text"
      },
      "source": [
        "<a href=\"https://colab.research.google.com/github/abhinavtk/ML_Assignments/blob/master/img_scrape.ipynb\" target=\"_parent\"><img src=\"https://colab.research.google.com/assets/colab-badge.svg\" alt=\"Open In Colab\"/></a>"
      ]
    },
    {
      "cell_type": "code",
      "metadata": {
        "id": "duD_U-vyZp7j",
        "colab_type": "code",
        "colab": {
          "base_uri": "https://localhost:8080/",
          "height": 138
        },
        "outputId": "8c4ac572-ec6a-4c77-8d71-c00c5f4e4f93"
      },
      "source": [
        "pip install selenium"
      ],
      "execution_count": null,
      "outputs": [
        {
          "output_type": "stream",
          "text": [
            "Collecting selenium\n",
            "\u001b[?25l  Downloading https://files.pythonhosted.org/packages/80/d6/4294f0b4bce4de0abf13e17190289f9d0613b0a44e5dd6a7f5ca98459853/selenium-3.141.0-py2.py3-none-any.whl (904kB)\n",
            "\r\u001b[K     |▍                               | 10kB 20.1MB/s eta 0:00:01\r\u001b[K     |▊                               | 20kB 6.1MB/s eta 0:00:01\r\u001b[K     |█                               | 30kB 6.7MB/s eta 0:00:01\r\u001b[K     |█▌                              | 40kB 8.2MB/s eta 0:00:01\r\u001b[K     |█▉                              | 51kB 6.9MB/s eta 0:00:01\r\u001b[K     |██▏                             | 61kB 7.8MB/s eta 0:00:01\r\u001b[K     |██▌                             | 71kB 8.1MB/s eta 0:00:01\r\u001b[K     |███                             | 81kB 8.3MB/s eta 0:00:01\r\u001b[K     |███▎                            | 92kB 7.8MB/s eta 0:00:01\r\u001b[K     |███▋                            | 102kB 8.1MB/s eta 0:00:01\r\u001b[K     |████                            | 112kB 8.1MB/s eta 0:00:01\r\u001b[K     |████▍                           | 122kB 8.1MB/s eta 0:00:01\r\u001b[K     |████▊                           | 133kB 8.1MB/s eta 0:00:01\r\u001b[K     |█████                           | 143kB 8.1MB/s eta 0:00:01\r\u001b[K     |█████▍                          | 153kB 8.1MB/s eta 0:00:01\r\u001b[K     |█████▉                          | 163kB 8.1MB/s eta 0:00:01\r\u001b[K     |██████▏                         | 174kB 8.1MB/s eta 0:00:01\r\u001b[K     |██████▌                         | 184kB 8.1MB/s eta 0:00:01\r\u001b[K     |██████▉                         | 194kB 8.1MB/s eta 0:00:01\r\u001b[K     |███████▎                        | 204kB 8.1MB/s eta 0:00:01\r\u001b[K     |███████▋                        | 215kB 8.1MB/s eta 0:00:01\r\u001b[K     |████████                        | 225kB 8.1MB/s eta 0:00:01\r\u001b[K     |████████▎                       | 235kB 8.1MB/s eta 0:00:01\r\u001b[K     |████████▊                       | 245kB 8.1MB/s eta 0:00:01\r\u001b[K     |█████████                       | 256kB 8.1MB/s eta 0:00:01\r\u001b[K     |█████████▍                      | 266kB 8.1MB/s eta 0:00:01\r\u001b[K     |█████████▉                      | 276kB 8.1MB/s eta 0:00:01\r\u001b[K     |██████████▏                     | 286kB 8.1MB/s eta 0:00:01\r\u001b[K     |██████████▌                     | 296kB 8.1MB/s eta 0:00:01\r\u001b[K     |██████████▉                     | 307kB 8.1MB/s eta 0:00:01\r\u001b[K     |███████████▎                    | 317kB 8.1MB/s eta 0:00:01\r\u001b[K     |███████████▋                    | 327kB 8.1MB/s eta 0:00:01\r\u001b[K     |████████████                    | 337kB 8.1MB/s eta 0:00:01\r\u001b[K     |████████████▎                   | 348kB 8.1MB/s eta 0:00:01\r\u001b[K     |████████████▊                   | 358kB 8.1MB/s eta 0:00:01\r\u001b[K     |█████████████                   | 368kB 8.1MB/s eta 0:00:01\r\u001b[K     |█████████████▍                  | 378kB 8.1MB/s eta 0:00:01\r\u001b[K     |█████████████▊                  | 389kB 8.1MB/s eta 0:00:01\r\u001b[K     |██████████████▏                 | 399kB 8.1MB/s eta 0:00:01\r\u001b[K     |██████████████▌                 | 409kB 8.1MB/s eta 0:00:01\r\u001b[K     |██████████████▉                 | 419kB 8.1MB/s eta 0:00:01\r\u001b[K     |███████████████▏                | 430kB 8.1MB/s eta 0:00:01\r\u001b[K     |███████████████▋                | 440kB 8.1MB/s eta 0:00:01\r\u001b[K     |████████████████                | 450kB 8.1MB/s eta 0:00:01\r\u001b[K     |████████████████▎               | 460kB 8.1MB/s eta 0:00:01\r\u001b[K     |████████████████▋               | 471kB 8.1MB/s eta 0:00:01\r\u001b[K     |█████████████████               | 481kB 8.1MB/s eta 0:00:01\r\u001b[K     |█████████████████▍              | 491kB 8.1MB/s eta 0:00:01\r\u001b[K     |█████████████████▊              | 501kB 8.1MB/s eta 0:00:01\r\u001b[K     |██████████████████▏             | 512kB 8.1MB/s eta 0:00:01\r\u001b[K     |██████████████████▌             | 522kB 8.1MB/s eta 0:00:01\r\u001b[K     |██████████████████▉             | 532kB 8.1MB/s eta 0:00:01\r\u001b[K     |███████████████████▏            | 542kB 8.1MB/s eta 0:00:01\r\u001b[K     |███████████████████▋            | 552kB 8.1MB/s eta 0:00:01\r\u001b[K     |████████████████████            | 563kB 8.1MB/s eta 0:00:01\r\u001b[K     |████████████████████▎           | 573kB 8.1MB/s eta 0:00:01\r\u001b[K     |████████████████████▋           | 583kB 8.1MB/s eta 0:00:01\r\u001b[K     |█████████████████████           | 593kB 8.1MB/s eta 0:00:01\r\u001b[K     |█████████████████████▍          | 604kB 8.1MB/s eta 0:00:01\r\u001b[K     |█████████████████████▊          | 614kB 8.1MB/s eta 0:00:01\r\u001b[K     |██████████████████████          | 624kB 8.1MB/s eta 0:00:01\r\u001b[K     |██████████████████████▌         | 634kB 8.1MB/s eta 0:00:01\r\u001b[K     |██████████████████████▉         | 645kB 8.1MB/s eta 0:00:01\r\u001b[K     |███████████████████████▏        | 655kB 8.1MB/s eta 0:00:01\r\u001b[K     |███████████████████████▌        | 665kB 8.1MB/s eta 0:00:01\r\u001b[K     |████████████████████████        | 675kB 8.1MB/s eta 0:00:01\r\u001b[K     |████████████████████████▎       | 686kB 8.1MB/s eta 0:00:01\r\u001b[K     |████████████████████████▋       | 696kB 8.1MB/s eta 0:00:01\r\u001b[K     |█████████████████████████       | 706kB 8.1MB/s eta 0:00:01\r\u001b[K     |█████████████████████████▍      | 716kB 8.1MB/s eta 0:00:01\r\u001b[K     |█████████████████████████▊      | 727kB 8.1MB/s eta 0:00:01\r\u001b[K     |██████████████████████████      | 737kB 8.1MB/s eta 0:00:01\r\u001b[K     |██████████████████████████▍     | 747kB 8.1MB/s eta 0:00:01\r\u001b[K     |██████████████████████████▉     | 757kB 8.1MB/s eta 0:00:01\r\u001b[K     |███████████████████████████▏    | 768kB 8.1MB/s eta 0:00:01\r\u001b[K     |███████████████████████████▌    | 778kB 8.1MB/s eta 0:00:01\r\u001b[K     |████████████████████████████    | 788kB 8.1MB/s eta 0:00:01\r\u001b[K     |████████████████████████████▎   | 798kB 8.1MB/s eta 0:00:01\r\u001b[K     |████████████████████████████▋   | 808kB 8.1MB/s eta 0:00:01\r\u001b[K     |█████████████████████████████   | 819kB 8.1MB/s eta 0:00:01\r\u001b[K     |█████████████████████████████▍  | 829kB 8.1MB/s eta 0:00:01\r\u001b[K     |█████████████████████████████▊  | 839kB 8.1MB/s eta 0:00:01\r\u001b[K     |██████████████████████████████  | 849kB 8.1MB/s eta 0:00:01\r\u001b[K     |██████████████████████████████▍ | 860kB 8.1MB/s eta 0:00:01\r\u001b[K     |██████████████████████████████▉ | 870kB 8.1MB/s eta 0:00:01\r\u001b[K     |███████████████████████████████▏| 880kB 8.1MB/s eta 0:00:01\r\u001b[K     |███████████████████████████████▌| 890kB 8.1MB/s eta 0:00:01\r\u001b[K     |███████████████████████████████▉| 901kB 8.1MB/s eta 0:00:01\r\u001b[K     |████████████████████████████████| 911kB 8.1MB/s \n",
            "\u001b[?25hRequirement already satisfied: urllib3 in /usr/local/lib/python3.6/dist-packages (from selenium) (1.24.3)\n",
            "Installing collected packages: selenium\n",
            "Successfully installed selenium-3.141.0\n"
          ],
          "name": "stdout"
        }
      ]
    },
    {
      "cell_type": "code",
      "metadata": {
        "id": "mRuyad03ZYHe",
        "colab_type": "code",
        "colab": {}
      },
      "source": [
        "import os\n",
        "import time\n",
        "import requests\n",
        "from selenium import webdriver"
      ],
      "execution_count": null,
      "outputs": []
    },
    {
      "cell_type": "code",
      "metadata": {
        "id": "bMBHe8boZYII",
        "colab_type": "code",
        "colab": {}
      },
      "source": [
        "def fetch_image_urls(query: str, max_links_to_fetch: int, wd: webdriver, sleep_between_interactions: int = 1):\n",
        "    def scroll_to_end(wd):\n",
        "        wd.execute_script(\"window.scrollTo(0, document.body.scrollHeight);\")\n",
        "        time.sleep(sleep_between_interactions)\n",
        "\n",
        "        # build the google query\n",
        "\n",
        "    search_url = \"https://www.google.com/search?safe=off&site=&tbm=isch&source=hp&q={q}&oq={q}&gs_l=img\"\n",
        "\n",
        "    # load the page\n",
        "    wd.get(search_url.format(q=query))\n",
        "\n",
        "    image_urls = set()\n",
        "    image_count = 0\n",
        "    results_start = 0\n",
        "    while image_count < max_links_to_fetch:\n",
        "        scroll_to_end(wd)\n",
        "\n",
        "        # get all image thumbnail results\n",
        "        thumbnail_results = wd.find_elements_by_css_selector(\"img.Q4LuWd\")\n",
        "        number_results = len(thumbnail_results)\n",
        "\n",
        "        print(f\"Found: {number_results} search results. Extracting links from {results_start}:{number_results}\")\n",
        "\n",
        "        for img in thumbnail_results[results_start:number_results]:\n",
        "            # try to click every thumbnail such that we can get the real image behind it\n",
        "            try:\n",
        "                img.click()\n",
        "                time.sleep(sleep_between_interactions)\n",
        "            except Exception:\n",
        "                continue\n",
        "\n",
        "            # extract image urls\n",
        "            actual_images = wd.find_elements_by_css_selector('img.n3VNCb')\n",
        "            for actual_image in actual_images:\n",
        "                if actual_image.get_attribute('src') and 'http' in actual_image.get_attribute('src'):\n",
        "                    image_urls.add(actual_image.get_attribute('src'))\n",
        "\n",
        "            image_count = len(image_urls)\n",
        "\n",
        "            if len(image_urls) >= max_links_to_fetch:\n",
        "                print(f\"Found: {len(image_urls)} image links, done!\")\n",
        "                break\n",
        "        else:\n",
        "            print(\"Found:\", len(image_urls), \"image links, looking for more ...\")\n",
        "            time.sleep(30)\n",
        "            return\n",
        "            load_more_button = wd.find_element_by_css_selector(\".mye4qd\")\n",
        "            if load_more_button:\n",
        "                wd.execute_script(\"document.querySelector('.mye4qd').click();\")\n",
        "\n",
        "        # move the result startpoint further down\n",
        "        results_start = len(thumbnail_results)\n",
        "\n",
        "    return image_urls"
      ],
      "execution_count": null,
      "outputs": []
    },
    {
      "cell_type": "code",
      "metadata": {
        "id": "7l6egRN5ZYIU",
        "colab_type": "code",
        "colab": {}
      },
      "source": [
        "def persist_image(folder_path:str,url:str, counter):\n",
        "    try:\n",
        "        image_content = requests.get(url).content\n",
        "\n",
        "    except Exception as e:\n",
        "        print(f\"ERROR - Could not download {url} - {e}\")\n",
        "\n",
        "    try:\n",
        "        f = open(os.path.join(folder_path, 'jpg' + \"_\" + str(counter) + \".jpg\"), 'wb')\n",
        "        f.write(image_content)\n",
        "        f.close()\n",
        "        print(f\"SUCCESS - saved {url} - as {folder_path}\")\n",
        "    except Exception as e:\n",
        "        print(f\"ERROR - Could not save {url} - {e}\")"
      ],
      "execution_count": null,
      "outputs": []
    },
    {
      "cell_type": "code",
      "metadata": {
        "id": "olqA4g7nZYIg",
        "colab_type": "code",
        "colab": {}
      },
      "source": [
        "def search_and_download(search_term: str, driver_path: str, target_path='./images', number_images=10):\n",
        "    target_folder = os.path.join(target_path, '_'.join(search_term.lower().split(' '))) # make the folder name inside images with the search string\n",
        "\n",
        "    if not os.path.exists(target_folder):\n",
        "        os.makedirs(target_folder) # make directory using the target path if it doesn't exist already\n",
        "\n",
        "    with webdriver.Chrome(executable_path=driver_path) as wd:\n",
        "        res = fetch_image_urls(search_term, number_images, wd=wd, sleep_between_interactions=0.5)\n",
        "\n",
        "    counter = 0\n",
        "    for elem in res:\n",
        "        persist_image(target_folder, elem, counter)\n",
        "        counter += 1"
      ],
      "execution_count": null,
      "outputs": []
    },
    {
      "cell_type": "code",
      "metadata": {
        "id": "E0-EMQTnZYIp",
        "colab_type": "code",
        "colab": {}
      },
      "source": [
        "DRIVER_PATH = './chromedriver'\n",
        "search_term = 'bike'\n",
        "# num of images you can pass it from here  by default it's 10 if you are not passing\n",
        "# number_images = 10\n",
        "search_and_download(search_term=search_term, driver_path=DRIVER_PATH) # method to download images"
      ],
      "execution_count": null,
      "outputs": []
    }
  ]
}